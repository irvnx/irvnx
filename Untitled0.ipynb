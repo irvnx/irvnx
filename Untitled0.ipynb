{
  "nbformat": 4,
  "nbformat_minor": 0,
  "metadata": {
    "colab": {
      "name": "Untitled0.ipynb",
      "provenance": []
    },
    "kernelspec": {
      "name": "python3",
      "display_name": "Python 3"
    },
    "language_info": {
      "name": "python"
    }
  },
  "cells": [
    {
      "cell_type": "code",
      "metadata": {
        "colab": {
          "base_uri": "https://localhost:8080/"
        },
        "id": "yIF1BfKi9skB",
        "outputId": "97d6371d-c382-4bd2-92a9-738973ef113f"
      },
      "source": [
        "x = ['ab', 'cd']\n",
        "for i in x:\n",
        "    i.upper()\n",
        "print(x)"
      ],
      "execution_count": null,
      "outputs": [
        {
          "output_type": "stream",
          "name": "stdout",
          "text": [
            "['ab', 'cd']\n"
          ]
        }
      ]
    },
    {
      "cell_type": "code",
      "metadata": {
        "colab": {
          "base_uri": "https://localhost:8080/"
        },
        "id": "aMP3EW9h_AH3",
        "outputId": "4ff19a58-4076-4cba-d0ec-5e692904ba14"
      },
      "source": [
        "i = 1\n",
        "while True:\n",
        "    if i%3 == 0:\n",
        "        break\n",
        "    print(i)\n",
        " \n",
        "    i+= 1"
      ],
      "execution_count": null,
      "outputs": [
        {
          "output_type": "stream",
          "name": "stdout",
          "text": [
            "1\n",
            "2\n"
          ]
        }
      ]
    },
    {
      "cell_type": "code",
      "metadata": {
        "colab": {
          "base_uri": "https://localhost:8080/"
        },
        "id": "v2VQ0HQ2BSR8",
        "outputId": "f4332616-a343-4721-a561-640c873811c1"
      },
      "source": [
        "list=['car','bus','scooter']\n",
        "def loop(x):\n",
        "  print(x*3)\n",
        "\n",
        "def map_new(a):\n",
        "  for i in list:\n",
        "    a(i)\n",
        "\n",
        "map_new(loop)\n",
        "\n"
      ],
      "execution_count": null,
      "outputs": [
        {
          "output_type": "stream",
          "name": "stdout",
          "text": [
            "carcarcar\n",
            "busbusbus\n",
            "scooterscooterscooter\n"
          ]
        }
      ]
    },
    {
      "cell_type": "code",
      "metadata": {
        "colab": {
          "base_uri": "https://localhost:8080/"
        },
        "id": "g0GF43Wbg_7X",
        "outputId": "7163b419-58b6-451d-d77f-b641a2b2a7ed"
      },
      "source": [
        "lsi = [\"apple\", \"banana\", \"cherry\"]\n",
        "lsi.remove(\"banana\")\n",
        "print(lsi)"
      ],
      "execution_count": null,
      "outputs": [
        {
          "output_type": "stream",
          "name": "stdout",
          "text": [
            "['apple', 'cherry']\n"
          ]
        }
      ]
    },
    {
      "cell_type": "code",
      "metadata": {
        "colab": {
          "base_uri": "https://localhost:8080/"
        },
        "id": "205Wc1ETtJA2",
        "outputId": "0bdd67fd-af2f-4e5d-c4d9-867b5fa64de0"
      },
      "source": [
        "list1=[\"apples\",\"bananas\",\"kiwi\"]\n",
        "list2=[]\n",
        "for x in list1:\n",
        "  if \"a\" in x:\n",
        "    list2.append(x)\n",
        "print(list2)"
      ],
      "execution_count": null,
      "outputs": [
        {
          "output_type": "stream",
          "name": "stdout",
          "text": [
            "['apples', 'bananas']\n"
          ]
        }
      ]
    },
    {
      "cell_type": "code",
      "metadata": {
        "colab": {
          "base_uri": "https://localhost:8080/"
        },
        "id": "5DXbk02YuUcU",
        "outputId": "0bb632da-4546-4e06-ed79-20f9ffe14649"
      },
      "source": [
        "list1=[\"apples\",\"bananas\",\"kiwi\"]\n",
        "list2=[x for x in list1 if \"a\" in x]\n",
        "print(list2)"
      ],
      "execution_count": null,
      "outputs": [
        {
          "output_type": "stream",
          "name": "stdout",
          "text": [
            "['apples', 'bananas']\n"
          ]
        }
      ]
    },
    {
      "cell_type": "code",
      "metadata": {
        "colab": {
          "base_uri": "https://localhost:8080/"
        },
        "id": "ortfV-J-vmAW",
        "outputId": "eeb6e2cc-1e89-42e0-a7e5-516c4db6ebb0"
      },
      "source": [
        "list1=[\"apples\",\"bananas\",\"kiwi\"]\n",
        "list2=[x.upper() for x in list1]\n",
        "print(list2)"
      ],
      "execution_count": null,
      "outputs": [
        {
          "output_type": "stream",
          "name": "stdout",
          "text": [
            "['APPLES', 'BANANAS', 'KIWI']\n"
          ]
        }
      ]
    },
    {
      "cell_type": "code",
      "metadata": {
        "colab": {
          "base_uri": "https://localhost:8080/"
        },
        "id": "nq-7oBPyv7as",
        "outputId": "452119fe-4907-4c23-d063-4a4b7cf9c574"
      },
      "source": [
        "list1=[\"apples\",\"bananas\",\"kiwi\"]\n",
        "list2=[x for x in list1 if x != \"kiwi\"]\n",
        "print(list2)"
      ],
      "execution_count": null,
      "outputs": [
        {
          "output_type": "stream",
          "name": "stdout",
          "text": [
            "['apples', 'bananas']\n"
          ]
        }
      ]
    },
    {
      "cell_type": "code",
      "metadata": {
        "colab": {
          "base_uri": "https://localhost:8080/"
        },
        "id": "RWlA_EvBweRA",
        "outputId": "647e6cab-d827-4ed6-96e1-0adad71fb061"
      },
      "source": [
        "list1=[\"apples\",\"bananas\",\"kiwi\"]\n",
        "list2=[x if x != \"kiwi\" else \"oranges\" for x in list1]\n",
        "print(list2)"
      ],
      "execution_count": null,
      "outputs": [
        {
          "output_type": "stream",
          "name": "stdout",
          "text": [
            "['apples', 'bananas', 'oranges']\n"
          ]
        }
      ]
    },
    {
      "cell_type": "code",
      "metadata": {
        "colab": {
          "base_uri": "https://localhost:8080/"
        },
        "id": "hAx_HT1dtbPZ",
        "outputId": "df94032c-0801-4955-fc27-bec39ca4b76e"
      },
      "source": [
        "class Human:\n",
        "  x=5\n",
        "\n",
        "h1=Human()\n",
        "print(h1.x)"
      ],
      "execution_count": null,
      "outputs": [
        {
          "output_type": "stream",
          "name": "stdout",
          "text": [
            "5\n"
          ]
        }
      ]
    },
    {
      "cell_type": "code",
      "metadata": {
        "colab": {
          "base_uri": "https://localhost:8080/"
        },
        "id": "VSDOX-jfvLnh",
        "outputId": "2e1894f0-c974-45a5-b889-9e360e75914d"
      },
      "source": [
        "5**10"
      ],
      "execution_count": null,
      "outputs": [
        {
          "output_type": "execute_result",
          "data": {
            "text/plain": [
              "9765625"
            ]
          },
          "metadata": {},
          "execution_count": 4
        }
      ]
    },
    {
      "cell_type": "code",
      "metadata": {
        "colab": {
          "base_uri": "https://localhost:8080/"
        },
        "id": "_f93zVFav_Ub",
        "outputId": "2d7d3b45-ea6f-463d-d063-f03a012b0a27"
      },
      "source": [
        "def odd_even(x):\n",
        "  if x%2==0:\n",
        "    print(\"Given number is even\")\n",
        "  else:\n",
        "    print(\"Given number is odd\")\n",
        "\n",
        "print(odd_even(7))"
      ],
      "execution_count": null,
      "outputs": [
        {
          "output_type": "stream",
          "name": "stdout",
          "text": [
            "Given number is odd\n",
            "None\n"
          ]
        }
      ]
    },
    {
      "cell_type": "code",
      "metadata": {
        "colab": {
          "base_uri": "https://localhost:8080/"
        },
        "id": "3svdocBo3Nbu",
        "outputId": "92e3891f-f959-4130-87c4-9bef9c3069db"
      },
      "source": [
        "num=int(input(\"Enter a number: \"))\n",
        "if num>1:\n",
        "  for i in range(2,num):\n",
        "    if num%i==0:\n",
        "      print(num, \"is not a prime number\")\n",
        "      break\n",
        "  else:\n",
        "      print(num, \"is a prime number\")\n",
        "else:\n",
        "  print(num, \"is not a prime number\")"
      ],
      "execution_count": null,
      "outputs": [
        {
          "output_type": "stream",
          "name": "stdout",
          "text": [
            "Enter a number: 4\n",
            "4 is not a prime number\n"
          ]
        }
      ]
    },
    {
      "cell_type": "code",
      "metadata": {
        "id": "TbhvReKaEGcA"
      },
      "source": [
        "def fib(n):\n",
        "    a = 0\n",
        "    b = 1\n",
        "    if n == 1:\n",
        "        print(a)\n",
        "    else:\n",
        "        print(a)\n",
        "        print(b)\n",
        "        for i in range(2,n):\n",
        "            c = a + b\n",
        "            a = b\n",
        "            b = c\n",
        "            print(c)\n",
        "fib(10)"
      ],
      "execution_count": null,
      "outputs": []
    },
    {
      "cell_type": "code",
      "source": [
        "def fib(n):\n",
        "  a,b=0,1\n",
        "  if n<=0:\n",
        "    print(\"Enter a positive integer\")\n",
        "  elif n==1:\n",
        "    print(a)\n",
        "  else:\n",
        "    print(a)\n",
        "    print(b)\n",
        "    for i in range(2,n):\n",
        "     c=a+b\n",
        "     a=b\n",
        "     b=c\n",
        "     print(c)\n",
        "\n",
        "\n",
        "n=int(input(\"How many terms?\"))\n",
        "fib(n)"
      ],
      "metadata": {
        "id": "Lh3EccsVfXkj"
      },
      "execution_count": null,
      "outputs": []
    },
    {
      "cell_type": "code",
      "source": [
        "def Fibonacci(number):\n",
        "           if(number == 0):\n",
        "                      return 0\n",
        "           elif(number == 1):\n",
        "                      return 1\n",
        "           else:\n",
        "                      return (Fibonacci(number - 2)+ Fibonacci(number - 1))\n",
        "number = int(input(\"Enter the Range Number: \"))\n",
        "for n in range(0, number):\n",
        "           print(Fibonacci(n))"
      ],
      "metadata": {
        "colab": {
          "base_uri": "https://localhost:8080/"
        },
        "id": "wFqYQQfyh50p",
        "outputId": "beeefac6-6999-49fb-9859-da7cce98f4b6"
      },
      "execution_count": null,
      "outputs": [
        {
          "output_type": "stream",
          "name": "stdout",
          "text": [
            "Enter the Range Number: 6\n",
            "0\n",
            "1\n",
            "1\n",
            "2\n",
            "3\n",
            "5\n"
          ]
        }
      ]
    }
  ]
}